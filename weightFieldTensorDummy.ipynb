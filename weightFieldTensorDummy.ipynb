{
 "cells": [
  {
   "cell_type": "code",
   "execution_count": 1,
   "metadata": {},
   "outputs": [],
   "source": [
    "import os\n",
    "os.environ[\"CUDA_DEVICE_ORDER\"]=\"PCI_BUS_ID\"   \n",
    "os.environ[\"CUDA_VISIBLE_DEVICES\"]=\"5\"\n",
    "import numpy as np\n",
    "import matplotlib.pyplot as plt\n",
    "import torch\n",
    "torch.set_default_tensor_type('torch.cuda.FloatTensor')\n",
    "import time\n",
    "\n",
    "# savepath = \"./weightTensor/iper023_refine_rest\"\n",
    "# csw = np.load(os.path.join(savepath, \"RGB3S1W24_d10_mc0007f20.npy\")) # RGB 3, sigma 1, weight 24\n",
    "sigmas = np.load(\"Asigma.npy\")"
   ]
  },
  {
   "cell_type": "code",
   "execution_count": 2,
   "metadata": {},
   "outputs": [],
   "source": [
    "res = sigmas.shape[0]\n",
    "# gtM = torch.from_numpy(csw[...,3]/csw[...,3].max()*2-1).cuda()\n",
    "gtM = torch.from_numpy(sigmas/sigmas.max()*2-1).cuda()\n"
   ]
  },
  {
   "cell_type": "code",
   "execution_count": 6,
   "metadata": {},
   "outputs": [
    {
     "name": "stdout",
     "output_type": "stream",
     "text": [
      "iter:  1  / loss:  0.021129362285137177  / time:  6.391220808029175\n",
      "iter:  2  / loss:  0.014669962227344513  / time:  9.340874671936035\n",
      "iter:  4  / loss:  0.006931114010512829  / time:  15.480051755905151\n",
      "iter:  8  / loss:  0.003711921162903309  / time:  26.989548683166504\n",
      "iter:  16  / loss:  0.0019660438410937786  / time:  49.77524781227112\n",
      "iter:  32  / loss:  0.0016285574529320002  / time:  100.61606431007385\n",
      "iter:  64  / loss:  0.0012878866400569677  / time:  175.5533618927002\n",
      "iter:  128  / loss:  0.0012110034003853798  / time:  693.317108631134\n",
      "iter:  256  / loss:  0.001243121107108891  / time:  1703.2328271865845\n"
     ]
    }
   ],
   "source": [
    "Rlist = []\n",
    "finalloss = []\n",
    "for d in range(9):\n",
    "    prev_t = time.time()\n",
    "    R = 2**d\n",
    "    cp_vec = torch.randn((res, R, 3), requires_grad=True)\n",
    "    mse = torch.nn.MSELoss()\n",
    "    opt = torch.optim.RMSprop([cp_vec], lr=1e-3)\n",
    "    for iter in range(3000):\n",
    "        M = torch.sum(cp_vec[:,:,0].reshape(res,1,1,R) * cp_vec[:,:,1].reshape(1,res,1,R) * cp_vec[:,:,2].reshape(1,1,res,R), dim=-1)\n",
    "\n",
    "        loss = mse(M, gtM)\n",
    "        opt.zero_grad()\n",
    "        loss.backward()\n",
    "        opt.step()\n",
    "        \n",
    "        # if iter%50==0:\n",
    "    print(\"iter: \", R, \" / loss: \", loss.item(), \" / time: \", time.time() - prev_t)\n",
    "\n",
    "    Rlist.append(R)\n",
    "    finalloss.append(loss.item())"
   ]
  },
  {
   "cell_type": "code",
   "execution_count": 8,
   "metadata": {},
   "outputs": [
    {
     "data": {
      "text/plain": [
       "torch.Size([256, 256, 3])"
      ]
     },
     "execution_count": 8,
     "metadata": {},
     "output_type": "execute_result"
    }
   ],
   "source": [
    "cp_vec.shape"
   ]
  },
  {
   "cell_type": "code",
   "execution_count": 7,
   "metadata": {},
   "outputs": [
    {
     "data": {
      "text/plain": [
       "[<matplotlib.lines.Line2D at 0x7f895b8dc3a0>]"
      ]
     },
     "execution_count": 7,
     "metadata": {},
     "output_type": "execute_result"
    },
    {
     "data": {
      "image/png": "[encoded data removed]",
      "text/plain": [
       "<Figure size 432x288 with 1 Axes>"
      ]
     },
     "metadata": {
      "needs_background": "light"
     },
     "output_type": "display_data"
    }
   ],
   "source": [
    "plt.plot(Rlist, finalloss, '*-')"
   ]
  },
  {
   "cell_type": "markdown",
   "metadata": {},
   "source": [
    "# NN training"
   ]
  },
  {
   "cell_type": "code",
   "execution_count": 11,
   "metadata": {},
   "outputs": [],
   "source": [
    "import os\n",
    "os.environ[\"CUDA_DEVICE_ORDER\"]=\"PCI_BUS_ID\"   \n",
    "os.environ[\"CUDA_VISIBLE_DEVICES\"]=\"6,7\"\n",
    "import numpy as np\n",
    "import matplotlib.pyplot as plt\n",
    "import torch\n",
    "torch.set_default_tensor_type('torch.cuda.FloatTensor')\n",
    "\n",
    "from tqdm import tqdm\n",
    "import time\n",
    "import pickle\n",
    "\n",
    "import torch.nn as nn\n",
    "import torch.nn.functional as F\n",
    "\n",
    "def load_pickle_file(pkl_path):\n",
    "    with open(pkl_path, 'rb') as f:\n",
    "        data = pickle.load(f, encoding='latin1')\n",
    "    return data\n",
    "\n",
    "def load_mixamo_smpl(actions_dir, action_type='0007', skip=1):\n",
    "    result = load_pickle_file(os.path.join(actions_dir, action_type, 'result.pkl'))\n",
    "\n",
    "    anim_len = result['anim_len']\n",
    "    pose_array = result['smpl_array'].reshape(anim_len, -1)\n",
    "    cam_array = result['cam_array']\n",
    "    mocap = []\n",
    "    for i in range(0, anim_len, skip):\n",
    "        mocap.append({\n",
    "            'cam': cam_array[i],\n",
    "            'global_orient': pose_array[i, :3],\n",
    "            'body_pose': pose_array[i, 3:72],\n",
    "            'transl': np.array([cam_array[i, 1], cam_array[i, 2], 0])\n",
    "            })\n",
    "\n",
    "    return mocap\n",
    "\n",
    "motionlist = [\"{0:04d}\".format(i) for i in [22, 31, 32, 70, 83, 102, 145]]\n",
    "test_motionlist = [\"{0:04d}\".format(i) for i in [7, 131]]\n",
    "\n",
    "mocap_dict = {}\n",
    "for i in motionlist:\n",
    "    mocap_dict[i] = load_mixamo_smpl('mocap/mixamo/', i, skip=2)\n",
    "\n",
    "test_mocap_dict = {}\n",
    "for i in test_motionlist:\n",
    "    test_mocap_dict[i] = load_mixamo_smpl('mocap/mixamo/', i, skip=2)\n",
    "\n",
    "# mocap = load_mixamo_smpl('mocap/mixamo/', '0007', skip=2)\n",
    "R = 48\n",
    "res = 256"
   ]
  },
  {
   "cell_type": "code",
   "execution_count": 2,
   "metadata": {},
   "outputs": [],
   "source": [
    "class Net(nn.Module):\n",
    "\n",
    "    def __init__(self):\n",
    "        super(Net, self).__init__()\n",
    "        \n",
    "        # 아핀(affine) 연산: y = Wx + b\n",
    "        self.emb_pose = nn.Linear(69, 256)\n",
    "        self.emb_cpvec = nn.Linear(256*3, 256*3)\n",
    "        \n",
    "        self.fc1 = nn.Linear(1024, 1024)\n",
    "        self.fc2 = nn.Linear(1024, 1024)\n",
    "        self.fc3 = nn.Linear(1024, 1024)\n",
    "        self.fc4 = nn.Linear(1024, 1024)\n",
    "        self.fc5 = nn.Linear(1024, 256*3)\n",
    "        \n",
    "    def forward(self, cp_vec, theta):\n",
    "        addx = torch.cat((F.relu(self.emb_pose(theta)), F.relu(self.emb_cpvec(cp_vec))), dim=1)\n",
    "        x = F.relu(self.fc1(addx))\n",
    "        x = F.relu(self.fc2(x))\n",
    "        x = F.relu(self.fc3(x) + addx)\n",
    "        x = F.relu(self.fc4(x))\n",
    "        x = self.fc5(x)\n",
    "        return x "
   ]
  },
  {
   "cell_type": "code",
   "execution_count": 3,
   "metadata": {},
   "outputs": [],
   "source": [
    "cp_vec = torch.from_numpy(np.load(\"cpvec_sigma.npy\")).cuda()\n",
    "\n",
    "\n",
    "model = Net()\n",
    "mse = torch.nn.MSELoss()\n",
    "opt = torch.optim.RMSprop(model.parameters(), lr=1e-3)\n",
    "\n",
    "sigmas_dict = {}\n",
    "for i in motionlist:\n",
    "    sigmas_dict[i] = torch.from_numpy(np.load(\"sigmas\"+i+\".npy\"))\n",
    "\n",
    "test_sigmas_dict = {}\n",
    "for i in test_motionlist:\n",
    "    test_sigmas_dict[i] = torch.from_numpy(np.load(\"sigmas\"+i+\".npy\"))"
   ]
  },
  {
   "cell_type": "code",
   "execution_count": 30,
   "metadata": {},
   "outputs": [
    {
     "name": "stderr",
     "output_type": "stream",
     "text": [
      "  0%|          | 0/3000 [00:00<?, ?it/s]"
     ]
    },
    {
     "name": "stdout",
     "output_type": "stream",
     "text": [
      "iter:  0  / avg loss:  0.2990427017211914  / std loss:  0.0\n"
     ]
    },
    {
     "name": "stderr",
     "output_type": "stream",
     "text": [
      "  0%|          | 1/3000 [00:00<46:54,  1.07it/s]"
     ]
    },
    {
     "name": "stdout",
     "output_type": "stream",
     "text": [
      "[VAL] avg loss:  0.035027263406664136  / std loss:  0.027921160696337183\n"
     ]
    },
    {
     "name": "stderr",
     "output_type": "stream",
     "text": [
      "  0%|          | 14/3000 [00:09<32:36,  1.53it/s]\n"
     ]
    },
    {
     "ename": "KeyboardInterrupt",
     "evalue": "",
     "output_type": "error",
     "traceback": [
      "\u001b[0;31m---------------------------------------------------------------------------\u001b[0m",
      "\u001b[0;31mKeyboardInterrupt\u001b[0m                         Traceback (most recent call last)",
      "\u001b[0;32m<ipython-input-30-4b71f813de25>\u001b[0m in \u001b[0;36m<module>\u001b[0;34m\u001b[0m\n\u001b[1;32m     19\u001b[0m     \u001b[0mloss\u001b[0m\u001b[0;34m.\u001b[0m\u001b[0mbackward\u001b[0m\u001b[0;34m(\u001b[0m\u001b[0;34m)\u001b[0m\u001b[0;34m\u001b[0m\u001b[0;34m\u001b[0m\u001b[0m\n\u001b[1;32m     20\u001b[0m     \u001b[0mopt\u001b[0m\u001b[0;34m.\u001b[0m\u001b[0mstep\u001b[0m\u001b[0;34m(\u001b[0m\u001b[0;34m)\u001b[0m\u001b[0;34m\u001b[0m\u001b[0;34m\u001b[0m\u001b[0m\n\u001b[0;32m---> 21\u001b[0;31m     \u001b[0mfloss\u001b[0m\u001b[0;34m.\u001b[0m\u001b[0mappend\u001b[0m\u001b[0;34m(\u001b[0m\u001b[0mloss\u001b[0m\u001b[0;34m.\u001b[0m\u001b[0mitem\u001b[0m\u001b[0;34m(\u001b[0m\u001b[0;34m)\u001b[0m\u001b[0;34m)\u001b[0m\u001b[0;34m\u001b[0m\u001b[0;34m\u001b[0m\u001b[0m\n\u001b[0m\u001b[1;32m     22\u001b[0m \u001b[0;34m\u001b[0m\u001b[0m\n\u001b[1;32m     23\u001b[0m     \u001b[0;32mif\u001b[0m \u001b[0miter\u001b[0m \u001b[0;34m%\u001b[0m \u001b[0;36m50\u001b[0m \u001b[0;34m==\u001b[0m \u001b[0;36m0\u001b[0m\u001b[0;34m:\u001b[0m\u001b[0;34m\u001b[0m\u001b[0;34m\u001b[0m\u001b[0m\n",
      "\u001b[0;31mKeyboardInterrupt\u001b[0m: "
     ]
    }
   ],
   "source": [
    "floss = []    \n",
    "for iter in tqdm(range(3000)):\n",
    "    loss = 0\n",
    "    for k in range(10):\n",
    "        motion_i = np.random.randint(low=0, high=len(mocap_dict), size=1)[0]\n",
    "        motion = motionlist[motion_i]\n",
    "        mocap_i = torch.randint(low=0,high=len(mocap_dict[motion]),size=[1])[0]\n",
    "        poseM = sigmas_dict[motion][mocap_i].float().cuda() # (256, 256, 256)\n",
    "        body_pose = torch.from_numpy(mocap_dict[motion][mocap_i]['body_pose'][:69]).float().unsqueeze(0).cuda()\n",
    "        \n",
    "        new_cpvec = torch.transpose(cp_vec, 0, 1).reshape(-1, 256*3)\n",
    "        new_theta = torch.repeat_interleave(body_pose, repeats=R, dim=0)\n",
    "        tf_cpvec = model(new_cpvec, new_theta).reshape(R, 256, 3)\n",
    "        \n",
    "        # for initer in range(100):\n",
    "        tf_M = torch.sum(tf_cpvec[:,:,0].reshape(res,1,1,R) * tf_cpvec[:,:,1].reshape(1,res,1,R) * tf_cpvec[:,:,2].reshape(1,1,res,R), dim=-1)\n",
    "        loss += mse(tf_M, poseM)\n",
    "    opt.zero_grad()\n",
    "    loss.backward()\n",
    "    opt.step()\n",
    "    floss.append(loss.item())\n",
    "    \n",
    "    if iter % 50 == 0:\n",
    "        print(\"iter: \", iter, \" / avg loss: \", np.mean(floss), \" / std loss: \", np.std(floss))\n",
    "        floss = []\n",
    "\n",
    "    if iter % 500 == 0:\n",
    "        #### validation \n",
    "        test_losses = []\n",
    "        with torch.no_grad():\n",
    "            for kk in range(10):\n",
    "                test_motion_i = np.random.randint(low=0, high=len(test_mocap_dict), size=1)[0]\n",
    "                test_motion = test_motionlist[test_motion_i]\n",
    "\n",
    "                test_mocap_i = torch.randint(low=0,high=len(test_mocap_dict[test_motion]),size=[1])[0]\n",
    "                poseM = test_sigmas_dict[test_motion][test_mocap_i].float().cuda() # (256, 256, 256)\n",
    "                body_pose = torch.from_numpy(test_mocap_dict[test_motion][test_mocap_i]['body_pose'][:69]).float().unsqueeze(0).cuda()\n",
    "                \n",
    "                new_cpvec = torch.transpose(cp_vec, 0, 1).reshape(-1, 256*3)\n",
    "                new_theta = torch.repeat_interleave(body_pose, repeats=R, dim=0)\n",
    "                tf_cpvec = model(new_cpvec, new_theta).reshape(R, 256, 3)\n",
    "                \n",
    "                # for initer in range(100):\n",
    "                tf_M = torch.sum(tf_cpvec[:,:,0].reshape(res,1,1,R) * tf_cpvec[:,:,1].reshape(1,res,1,R) * tf_cpvec[:,:,2].reshape(1,1,res,R), dim=-1)\n",
    "                test_losses.append(mse(tf_M, poseM).item())\n",
    "            \n",
    "            print(\"[VAL] avg loss: \", np.mean(test_losses), \" / std loss: \", np.std(test_losses))\n",
    "\n",
    "##### test\n",
    "with torch.no_grad():\n",
    "    for test_motion_i in test_motionlist:\n",
    "        floss = []\n",
    "        for mocap_i in range(len(test_mocap_dict[test_motion_i])):\n",
    "            poseM = test_sigmas_dict[test_motion_i][mocap_i].float().cuda() # (256, 256, 256)\n",
    "            body_pose = torch.from_numpy(test_mocap_dict[test_motion_i][mocap_i]['body_pose'][:69]).float().unsqueeze(0).cuda()\n",
    "\n",
    "            new_cpvec = torch.transpose(cp_vec, 0, 1).reshape(-1, 256*3)\n",
    "            new_theta = torch.repeat_interleave(body_pose, repeats=R, dim=0)\n",
    "            tf_cpvec = model(new_cpvec, new_theta).reshape(R, 256, 3)\n",
    "\n",
    "            # for initer in range(100):\n",
    "            tf_M = torch.sum(tf_cpvec[:,:,0].reshape(res,1,1,R) * tf_cpvec[:,:,1].reshape(1,res,1,R) * tf_cpvec[:,:,2].reshape(1,1,res,R), dim=-1)\n",
    "            floss.append(mse(tf_M, poseM).item())\n",
    "\n",
    "        print(\"[TEST] \"+test_motion_i+\" - #\"+str(len(floss))+\", avg loss: \", np.mean(floss), \", std loss: \", np.std(floss))"
   ]
  },
  {
   "cell_type": "code",
   "execution_count": 25,
   "metadata": {},
   "outputs": [],
   "source": [
    "torch.save(model.state_dict(), \"./testmodel.pth\")"
   ]
  },
  {
   "cell_type": "markdown",
   "metadata": {},
   "source": [
    "# COLOR\n",
    "### rgb rest pose cpvec"
   ]
  },
  {
   "cell_type": "code",
   "execution_count": 73,
   "metadata": {},
   "outputs": [],
   "source": [
    "import os\n",
    "os.environ[\"CUDA_DEVICE_ORDER\"]=\"PCI_BUS_ID\"   \n",
    "os.environ[\"CUDA_VISIBLE_DEVICES\"]=\"7\"\n",
    "import numpy as np\n",
    "import matplotlib.pyplot as plt\n",
    "import torch\n",
    "torch.set_default_tensor_type('torch.cuda.FloatTensor')\n",
    "import time\n",
    "\n",
    "rgbs = np.load(\"Argb.npy\")\n",
    "res = rgbs.shape[0]\n",
    "gtM = torch.from_numpy(rgbs).cuda()"
   ]
  },
  {
   "cell_type": "code",
   "execution_count": 74,
   "metadata": {},
   "outputs": [],
   "source": [
    "Rlist = []\n",
    "finalloss = []\n",
    "# Rlist = [2**d for i in range(9)]\n",
    "Rlist = [48]\n",
    "for R in Rlist:\n",
    "    prev_t = time.time()\n",
    "    cp_vec = torch.randn((res, R, 3), requires_grad=True)\n",
    "    B = torch.randn((R, 3), requires_grad=True)\n",
    "    mse = torch.nn.MSELoss()\n",
    "    opt = torch.optim.RMSprop([cp_vec], lr=1e-3)\n",
    "    tmploss = []\n",
    "    for iter in range(3000+1):\n",
    "        M = torch.sum(cp_vec[:,:,0].reshape(res,1,1,R,1) * cp_vec[:,:,1].reshape(1,res,1,R,1) * cp_vec[:,:,2].reshape(1,1,res,R,1) * B.reshape(1,1,1,R,3), dim=3)\n",
    "\n",
    "        loss = mse(M, gtM)\n",
    "        opt.zero_grad()\n",
    "        loss.backward()\n",
    "        opt.step()\n",
    "        \n",
    "        if iter%300==0:\n",
    "            tmploss.append(loss.item())\n",
    "    print(\"#R: \", R, \" / loss: \", loss.item(), \" / time: \", time.time() - prev_t)\n",
    "\n",
    "    Rlist.append(R)\n",
    "    finalloss.append(tmploss)\n",
    "\n",
    "torch.save({\"cp_vec\":cp_vec, \"B\":B}, \"cpvec_rgb.pth\")"
   ]
  },
  {
   "cell_type": "code",
   "execution_count": 71,
   "metadata": {},
   "outputs": [
    {
     "data": {
      "image/png": "[encoded data removed]",
      "text/plain": [
       "<Figure size 720x360 with 1 Axes>"
      ]
     },
     "metadata": {
      "needs_background": "light"
     },
     "output_type": "display_data"
    }
   ],
   "source": [
    "finalloss = np.array(finalloss)\n",
    "\n",
    "fig = plt.figure(figsize=(10,5))\n",
    "ax = fig.add_subplot(111)\n",
    "ax.set_xscale('log', basex=2)\n",
    "ax.set_yscale('log', basey=10)\n",
    "\n",
    "\n",
    "for i in range(finalloss.shape[0]):\n",
    "    ax.plot(np.ones(finalloss.shape[1])*Rlist[i], finalloss[i]/Rlist[i], 'o-', alpha=0.5)\n",
    "\n",
    "ax.plot(np.array(Rlist), finalloss[:,-1]/np.array(Rlist), 'k*-', alpha=0.5)\n",
    "# ax.xticks(Rlist)\n",
    "np.save(\"rgb_finallossR.npy\", finalloss)"
   ]
  },
  {
   "cell_type": "markdown",
   "metadata": {},
   "source": [
    "### rgb mapping model"
   ]
  },
  {
   "cell_type": "code",
   "execution_count": null,
   "metadata": {},
   "outputs": [],
   "source": [
    "motionlist=[\"0007\"]\n",
    "\n",
    "mocap_dict = {}\n",
    "for i in motionlist:\n",
    "    mocap_dict[i] = load_mixamo_smpl('mocap/mixamo/', i, skip=2)\n",
    "\n",
    "rgbs_dict = {}\n",
    "for i in motionlist:\n",
    "    rgbs_dict[i] = torch.from_numpy(np.load(\"rgbs\"+i+\".npy\"))\n",
    "\n",
    "\n",
    "loaded = torch.load(\"cpvec_rgb.pth\")\n",
    "cp_vec = loaded[\"cp_vec\"].cuda()\n",
    "B = loaded[\"B\"].cuda()\n",
    "\n",
    "model = Net()\n",
    "mse = torch.nn.MSELoss()\n",
    "opt = torch.optim.RMSprop(model.parameters(), lr=1e-3)\n",
    "\n",
    "floss = []    \n",
    "for iter in tqdm(range(3000)):\n",
    "    loss = 0\n",
    "    for k in range(10):\n",
    "        motion_i = np.random.randint(low=0, high=len(mocap_dict), size=1)[0]\n",
    "        motion = motionlist[motion_i]\n",
    "        mocap_i = torch.randint(low=0,high=len(mocap_dict[motion]),size=[1])[0]\n",
    "        poseM = rgbs_dict[motion][mocap_i].float().cuda() # (256, 256, 256, 3)\n",
    "        body_pose = torch.from_numpy(mocap_dict[motion][mocap_i]['body_pose'][:69]).float().unsqueeze(0).cuda()\n",
    "        \n",
    "        new_cpvec = torch.transpose(cp_vec, 0, 1).reshape(-1, 256*3)\n",
    "        new_theta = torch.repeat_interleave(body_pose, repeats=R, dim=0)\n",
    "        tf_cpvec = model(new_cpvec, new_theta).reshape(R, 256, 3)\n",
    "        \n",
    "        # for initer in range(100):\n",
    "        tf_M = torch.sum(cp_vec[:,:,0].reshape(res,1,1,R,1) * cp_vec[:,:,1].reshape(1,res,1,R,1) * cp_vec[:,:,2].reshape(1,1,res,R,1) * B.reshape(1,1,1,R,3), dim=3)\n",
    "        loss += mse(tf_M, poseM)\n",
    "    opt.zero_grad()\n",
    "    loss.backward()\n",
    "    opt.step()\n",
    "    floss.append(loss.item())\n",
    "    \n",
    "    if iter % 50 == 0:\n",
    "        print(\"iter: \", iter, \" / avg loss: \", np.mean(floss), \" / std loss: \", np.std(floss))\n",
    "        floss = []\n"
   ]
  },
  {
   "cell_type": "code",
   "execution_count": null,
   "metadata": {},
   "outputs": [],
   "source": []
  }
 ],
 "metadata": {
  "interpreter": {
   "hash": "bd2ab255c3d3a21564941f571af10964425bfe05d0a4321b81533541cb7edc75"
  },
  "kernelspec": {
   "display_name": "Python 3.8.5 ('base')",
   "language": "python",
   "name": "python3"
  },
  "language_info": {
   "codemirror_mode": {
    "name": "ipython",
    "version": 3
   },
   "file_extension": ".py",
   "mimetype": "text/x-python",
   "name": "python",
   "nbconvert_exporter": "python",
   "pygments_lexer": "ipython3",
   "version": "3.8.3"
  },
  "orig_nbformat": 4
 },
 "nbformat": 4,
 "nbformat_minor": 2
}
